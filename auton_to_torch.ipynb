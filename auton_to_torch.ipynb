{
 "cells": [
  {
   "cell_type": "code",
   "execution_count": 119,
   "metadata": {},
   "outputs": [],
   "source": [
    "import h5py as h5\n",
    "import matplotlib.pyplot as plt\n",
    "import os\n",
    "import torch\n",
    "import pandas as pd\n",
    "import numpy as np\n",
    "from tqdm import tqdm\n",
    "import pickle\n",
    "import sys\n",
    "sys.path.append(os.path.expanduser(\"~/TMPredictor/survival_tm/auton-survival\"))\n",
    "from auton_survival.preprocessing import Scaler\n",
    "import optuna\n",
    "from sklearn.model_selection import ParameterGrid\n",
    "#sys.path.append('/projects/EKOLEMEN/survival_tm/train_models/auton-survival')\n",
    "sys.path.append(os.path.expanduser(\"~/TMPredictor/survival_tm/auton-survival\"))\n",
    "from sklearn.model_selection import ParameterGrid\n",
    "from auton_survival.estimators import SurvivalModel\n",
    "from auton_survival.metrics import survival_regression_metric\n",
    "from auton_survival.models.dsm.dsm_torch import DeepSurvivalMachinesTorch\n",
    "from sksurv.metrics import concordance_index_ipcw, brier_score, cumulative_dynamic_auc"
   ]
  },
  {
   "cell_type": "code",
   "execution_count": 121,
   "metadata": {},
   "outputs": [],
   "source": [
    "'''with open('models/pca_hyperparams.pkl', 'rb') as file:\n",
    "    loaded_model = pickle.load(file)[1][0]'''\n",
    "with open('models/dummy.pkl', 'rb') as f:\n",
    "    loaded_model = pickle.load(f)[0][0]"
   ]
  },
  {
   "cell_type": "code",
   "execution_count": 4,
   "metadata": {},
   "outputs": [],
   "source": [
    "with open('data/x_train_pca.pkl', 'rb') as f:\n",
    "    x_train_df = pickle.load(f)"
   ]
  },
  {
   "cell_type": "code",
   "execution_count": 122,
   "metadata": {},
   "outputs": [
    {
     "name": "stdout",
     "output_type": "stream",
     "text": [
      "Sequential(\n",
      "  (0): Linear(in_features=38, out_features=10, bias=False)\n",
      "  (1): ReLU6()\n",
      "  (2): Linear(in_features=10, out_features=50, bias=False)\n",
      "  (3): ReLU6()\n",
      ")\n",
      "Sequential(\n",
      "  (0): Linear(in_features=50, out_features=10, bias=True)\n",
      ")\n",
      "Sequential(\n",
      "  (0): Linear(in_features=50, out_features=10, bias=True)\n",
      ")\n",
      "Sequential(\n",
      "  (0): Linear(in_features=50, out_features=10, bias=False)\n",
      ")\n",
      "1.0\n"
     ]
    }
   ],
   "source": [
    "a = loaded_model._model._gen_torch_model(38, 'Adam', 1)\n",
    "#torch.save(a, 'temp.pth')\n",
    "print(a.embedding)\n",
    "#print(a.act)\n",
    "print(a.shapeg['1'])\n",
    "#print(a.shape['1'].expand(179, -1))\n",
    "print(a.scaleg['1'])\n",
    "#print(a.scale['1'].expand(179, -1))\n",
    "print(a.gate['1'])\n",
    "print(a.temp)"
   ]
  },
  {
   "cell_type": "code",
   "execution_count": 124,
   "metadata": {},
   "outputs": [],
   "source": [
    "import torch\n",
    "import torch.nn as nn\n",
    "\n",
    "# Assuming 'a' is your original model\n",
    "class EmbeddingModel(nn.Module):\n",
    "    def __init__(self, original_model):\n",
    "        super(EmbeddingModel, self).__init__()\n",
    "        self.embedding = original_model.embedding\n",
    "        # onnx2keras doesn't support relu6\n",
    "        self.embedding[1] = nn.ReLU()\n",
    "        self.embedding[3] = nn.ReLU()\n",
    "        #self.embedding[5] = nn.ReLU()\n",
    "        #self.embedding[7] = nn.ReLU()\n",
    "        #self.embedding[9] = nn.ReLU()\n",
    "    def forward(self, x):\n",
    "        return self.embedding(x)\n",
    "\n",
    "class ShapegModel(nn.Module):\n",
    "    def __init__(self, original_model):\n",
    "        super(ShapegModel, self).__init__()\n",
    "        self.shapeg = original_model.shapeg['1']  # Access the specific module\n",
    "\n",
    "    def forward(self, x):\n",
    "        return self.shapeg(x)\n",
    "    \n",
    "class ScalegModel(nn.Module):\n",
    "    def __init__(self, original_model):\n",
    "        super(ScalegModel, self).__init__()\n",
    "        self.scaleg = original_model.scaleg['1']  # Access the specific module\n",
    "\n",
    "    def forward(self, x):\n",
    "        return self.scaleg(x)\n",
    "    \n",
    "class GateModel(nn.Module):\n",
    "    def __init__(self, original_model):\n",
    "        super(GateModel, self).__init__()\n",
    "        self.gate = original_model.gate['1']  # Access the specific module\n",
    "\n",
    "    def forward(self, x):\n",
    "        return self.gate(x)\n",
    "\n",
    "scaleg = ScalegModel(a)\n",
    "gate = GateModel(a)\n",
    "shapeg = ShapegModel(a)\n",
    "embedding = EmbeddingModel(a)"
   ]
  },
  {
   "cell_type": "code",
   "execution_count": 126,
   "metadata": {},
   "outputs": [
    {
     "name": "stderr",
     "output_type": "stream",
     "text": [
      "INFO:onnx2keras:Converter is called.\n",
      "DEBUG:onnx2keras:List input shapes:\n",
      "DEBUG:onnx2keras:None\n",
      "DEBUG:onnx2keras:List inputs:\n",
      "DEBUG:onnx2keras:Input 0 -> input.\n",
      "DEBUG:onnx2keras:List outputs:\n",
      "DEBUG:onnx2keras:Output 0 -> output.\n",
      "DEBUG:onnx2keras:Gathering weights to dictionary.\n",
      "DEBUG:onnx2keras:Found weight onnx::MatMul_9 with shape (38, 10).\n",
      "DEBUG:onnx2keras:Found weight onnx::MatMul_10 with shape (10, 50).\n",
      "DEBUG:onnx2keras:Found input input with shape [38]\n",
      "DEBUG:onnx2keras:######\n",
      "DEBUG:onnx2keras:...\n",
      "DEBUG:onnx2keras:Converting ONNX operation\n",
      "DEBUG:onnx2keras:type: MatMul\n",
      "DEBUG:onnx2keras:node_name: embedding_embedding_0_MatMul_output_0\n",
      "DEBUG:onnx2keras:node_params: {'change_ordering': False, 'name_policy': None}\n",
      "DEBUG:onnx2keras:...\n",
      "DEBUG:onnx2keras:Check if all inputs are available:\n",
      "DEBUG:onnx2keras:Check input 0 (name input).\n",
      "DEBUG:onnx2keras:Check input 1 (name onnx::MatMul_9).\n",
      "DEBUG:onnx2keras:The input not found in layers / model inputs.\n",
      "DEBUG:onnx2keras:Found in weights, add as a numpy constant.\n",
      "DEBUG:onnx2keras:... found all, continue\n",
      "DEBUG:onnx2keras:gemm:Convert GEMM without bias.\n",
      "DEBUG:onnx2keras:gemm:Input units 38, output units 10.\n",
      "DEBUG:onnx2keras:Output TF Layer -> KerasTensor(type_spec=TensorSpec(shape=(None, 10), dtype=tf.float32, name=None), name='embedding_embedding_0_MatMul_output_0/MatMul:0', description=\"created by layer 'embedding_embedding_0_MatMul_output_0'\")\n",
      "DEBUG:onnx2keras:######\n",
      "DEBUG:onnx2keras:...\n",
      "DEBUG:onnx2keras:Converting ONNX operation\n",
      "DEBUG:onnx2keras:type: Relu\n",
      "DEBUG:onnx2keras:node_name: embedding_embedding_1_Relu_output_0\n",
      "DEBUG:onnx2keras:node_params: {'change_ordering': False, 'name_policy': None}\n",
      "DEBUG:onnx2keras:...\n",
      "DEBUG:onnx2keras:Check if all inputs are available:\n",
      "DEBUG:onnx2keras:Check input 0 (name embedding_embedding_0_MatMul_output_0).\n",
      "DEBUG:onnx2keras:... found all, continue\n",
      "DEBUG:onnx2keras:Output TF Layer -> KerasTensor(type_spec=TensorSpec(shape=(None, 10), dtype=tf.float32, name=None), name='embedding_embedding_1_Relu_output_0/Relu:0', description=\"created by layer 'embedding_embedding_1_Relu_output_0'\")\n",
      "DEBUG:onnx2keras:######\n",
      "DEBUG:onnx2keras:...\n",
      "DEBUG:onnx2keras:Converting ONNX operation\n",
      "DEBUG:onnx2keras:type: MatMul\n",
      "DEBUG:onnx2keras:node_name: embedding_embedding_2_MatMul_output_0\n",
      "DEBUG:onnx2keras:node_params: {'change_ordering': False, 'name_policy': None}\n",
      "DEBUG:onnx2keras:...\n",
      "DEBUG:onnx2keras:Check if all inputs are available:\n",
      "DEBUG:onnx2keras:Check input 0 (name embedding_embedding_1_Relu_output_0).\n",
      "DEBUG:onnx2keras:Check input 1 (name onnx::MatMul_10).\n",
      "DEBUG:onnx2keras:The input not found in layers / model inputs.\n",
      "DEBUG:onnx2keras:Found in weights, add as a numpy constant.\n",
      "DEBUG:onnx2keras:... found all, continue\n",
      "DEBUG:onnx2keras:gemm:Convert GEMM without bias.\n",
      "DEBUG:onnx2keras:gemm:Input units 10, output units 50.\n",
      "DEBUG:onnx2keras:Output TF Layer -> KerasTensor(type_spec=TensorSpec(shape=(None, 50), dtype=tf.float32, name=None), name='embedding_embedding_2_MatMul_output_0/MatMul:0', description=\"created by layer 'embedding_embedding_2_MatMul_output_0'\")\n",
      "DEBUG:onnx2keras:######\n",
      "DEBUG:onnx2keras:...\n",
      "DEBUG:onnx2keras:Converting ONNX operation\n",
      "DEBUG:onnx2keras:type: Relu\n",
      "DEBUG:onnx2keras:node_name: output\n",
      "DEBUG:onnx2keras:node_params: {'change_ordering': False, 'name_policy': None}\n",
      "DEBUG:onnx2keras:...\n",
      "DEBUG:onnx2keras:Check if all inputs are available:\n",
      "DEBUG:onnx2keras:Check input 0 (name embedding_embedding_2_MatMul_output_0).\n",
      "DEBUG:onnx2keras:... found all, continue\n",
      "DEBUG:onnx2keras:Output TF Layer -> KerasTensor(type_spec=TensorSpec(shape=(None, 50), dtype=tf.float32, name=None), name='output/Relu:0', description=\"created by layer 'output'\")\n"
     ]
    },
    {
     "name": "stdout",
     "output_type": "stream",
     "text": [
      "Exported graph: graph(%input : Float(1, 38, strides=[38, 1], requires_grad=0, device=cpu),\n",
      "      %onnx::MatMul_9 : Float(38, 10, strides=[1, 38], requires_grad=0, device=cpu),\n",
      "      %onnx::MatMul_10 : Float(10, 50, strides=[1, 10], requires_grad=0, device=cpu)):\n",
      "  %/embedding/embedding.0/MatMul_output_0 : Float(1, 10, strides=[10, 1], requires_grad=1, device=cpu) = onnx::MatMul[onnx_name=\"/embedding/embedding.0/MatMul\"](%input, %onnx::MatMul_9), scope: __main__.EmbeddingModel::/torch.nn.modules.container.Sequential::embedding/torch.nn.modules.linear.Linear::embedding.0 # /home/hf8585/.conda/envs/torch/lib/python3.11/site-packages/torch/nn/modules/linear.py:116:0\n",
      "  %/embedding/embedding.1/Relu_output_0 : Float(1, 10, strides=[10, 1], requires_grad=1, device=cpu) = onnx::Relu[onnx_name=\"/embedding/embedding.1/Relu\"](%/embedding/embedding.0/MatMul_output_0), scope: __main__.EmbeddingModel::/torch.nn.modules.container.Sequential::embedding/torch.nn.modules.activation.ReLU::embedding.1 # /home/hf8585/.conda/envs/torch/lib/python3.11/site-packages/torch/nn/functional.py:1473:0\n",
      "  %/embedding/embedding.2/MatMul_output_0 : Float(1, 50, strides=[50, 1], requires_grad=1, device=cpu) = onnx::MatMul[onnx_name=\"/embedding/embedding.2/MatMul\"](%/embedding/embedding.1/Relu_output_0, %onnx::MatMul_10), scope: __main__.EmbeddingModel::/torch.nn.modules.container.Sequential::embedding/torch.nn.modules.linear.Linear::embedding.2 # /home/hf8585/.conda/envs/torch/lib/python3.11/site-packages/torch/nn/modules/linear.py:116:0\n",
      "  %output : Float(1, 50, strides=[50, 1], requires_grad=1, device=cpu) = onnx::Relu[onnx_name=\"/embedding/embedding.3/Relu\"](%/embedding/embedding.2/MatMul_output_0), scope: __main__.EmbeddingModel::/torch.nn.modules.container.Sequential::embedding/torch.nn.modules.activation.ReLU::embedding.3 # /home/hf8585/.conda/envs/torch/lib/python3.11/site-packages/torch/nn/functional.py:1473:0\n",
      "  return (%output)\n",
      "\n",
      "WARNING:tensorflow:Compiled the loaded model, but the compiled metrics have yet to be built. `model.compile_metrics` will be empty until you train or evaluate the model.\n"
     ]
    },
    {
     "name": "stderr",
     "output_type": "stream",
     "text": [
      "/home/hf8585/.conda/envs/torch/lib/python3.11/site-packages/keras/src/engine/training.py:3103: UserWarning: You are saving your model as an HDF5 file via `model.save()`. This file format is considered legacy. We recommend using instead the native Keras format, e.g. `model.save('my_model.keras')`.\n",
      "  saving_api.save_model(\n",
      "WARNING:tensorflow:Compiled the loaded model, but the compiled metrics have yet to be built. `model.compile_metrics` will be empty until you train or evaluate the model.\n"
     ]
    }
   ],
   "source": [
    "import onnx\n",
    "\n",
    "# make a dummy input with the correct dimensions for your model\n",
    "dummy_input = torch.randn(1, 38)\n",
    "torch.onnx.export(embedding, dummy_input, 'embedding.onnx', verbose=True, input_names = ['input'], output_names = ['output'])\n",
    "\n",
    "def sanitize_name(name):\n",
    "    return name.lstrip('/').replace('/', '_').replace('.', '_')\n",
    "\n",
    "def rename_nodes(model):\n",
    "    for node in model.graph.node:\n",
    "        node.name = sanitize_name(node.name)\n",
    "        node.input[:] = [sanitize_name(inp) for inp in node.input]\n",
    "        node.output[:] = [sanitize_name(out) for out in node.output]\n",
    "    for input in model.graph.input:\n",
    "        input.name = sanitize_name(input.name)\n",
    "    for output in model.graph.output:\n",
    "        output.name = sanitize_name(output.name)\n",
    "    for initializer in model.graph.initializer:\n",
    "        initializer.name = sanitize_name(initializer.name)\n",
    "\n",
    "onnx_model = onnx.load('embedding.onnx')\n",
    "rename_nodes(onnx_model)\n",
    "onnx.save(onnx_model, 'sanitized_embedding.onnx')\n",
    "\n",
    "from onnx2keras import onnx_to_keras\n",
    "import onnx\n",
    "onnx_model = onnx.load('sanitized_embedding.onnx')\n",
    "\n",
    "keras_model = onnx_to_keras(onnx_model, ['input'])\n",
    "keras_model.save('tape_dummy_embedding.h5')"
   ]
  },
  {
   "cell_type": "code",
   "execution_count": 127,
   "metadata": {},
   "outputs": [
    {
     "name": "stdout",
     "output_type": "stream",
     "text": [
      "WARNING:tensorflow:Compiled the loaded model, but the compiled metrics have yet to be built. `model.compile_metrics` will be empty until you train or evaluate the model.\n"
     ]
    },
    {
     "name": "stderr",
     "output_type": "stream",
     "text": [
      "WARNING:tensorflow:Compiled the loaded model, but the compiled metrics have yet to be built. `model.compile_metrics` will be empty until you train or evaluate the model.\n"
     ]
    }
   ],
   "source": [
    "# convert relu to relu6 in keras model\n",
    "from keras.models import Sequential\n",
    "from keras.layers import ReLU\n",
    "\n",
    "# Assume 'model' is your pre-loaded Keras sequential model\n",
    "for i, layer in enumerate(keras_model.layers):\n",
    "    if isinstance(layer, ReLU):\n",
    "        keras_model.layers[i] = ReLU(max_value=6, name=layer.name)  # Replacing ReLU with ReLU6\n",
    "\n",
    "# Save the updated model if necessary\n",
    "keras_model.save('tape_dummy_embedding.h5')\n"
   ]
  },
  {
   "cell_type": "code",
   "execution_count": 129,
   "metadata": {},
   "outputs": [
    {
     "name": "stderr",
     "output_type": "stream",
     "text": [
      "INFO:onnx2keras:Converter is called.\n",
      "DEBUG:onnx2keras:List input shapes:\n",
      "DEBUG:onnx2keras:None\n",
      "DEBUG:onnx2keras:List inputs:\n",
      "DEBUG:onnx2keras:Input 0 -> input.\n",
      "DEBUG:onnx2keras:List outputs:\n",
      "DEBUG:onnx2keras:Output 0 -> output.\n",
      "DEBUG:onnx2keras:Gathering weights to dictionary.\n",
      "DEBUG:onnx2keras:Found weight scaleg_0_weight with shape (10, 50).\n",
      "DEBUG:onnx2keras:Found weight scaleg_0_bias with shape (10,).\n",
      "DEBUG:onnx2keras:Found input input with shape [50]\n",
      "DEBUG:onnx2keras:######\n",
      "DEBUG:onnx2keras:...\n",
      "DEBUG:onnx2keras:Converting ONNX operation\n",
      "DEBUG:onnx2keras:type: Gemm\n",
      "DEBUG:onnx2keras:node_name: output\n",
      "DEBUG:onnx2keras:node_params: {'alpha': 1.0, 'beta': 1.0, 'transB': 1, 'change_ordering': False, 'name_policy': None}\n",
      "DEBUG:onnx2keras:...\n",
      "DEBUG:onnx2keras:Check if all inputs are available:\n",
      "DEBUG:onnx2keras:Check input 0 (name input).\n",
      "DEBUG:onnx2keras:Check input 1 (name scaleg_0_weight).\n",
      "DEBUG:onnx2keras:The input not found in layers / model inputs.\n",
      "DEBUG:onnx2keras:Found in weights, add as a numpy constant.\n",
      "DEBUG:onnx2keras:Check input 2 (name scaleg_0_bias).\n",
      "DEBUG:onnx2keras:The input not found in layers / model inputs.\n",
      "DEBUG:onnx2keras:Found in weights, add as a numpy constant.\n",
      "DEBUG:onnx2keras:... found all, continue\n",
      "DEBUG:onnx2keras:gemm:Convert GEMM with bias.\n",
      "DEBUG:onnx2keras:gemm:Transposing W matrix.\n",
      "DEBUG:onnx2keras:gemm:Input units 50, output units 10.\n",
      "DEBUG:onnx2keras:Output TF Layer -> KerasTensor(type_spec=TensorSpec(shape=(None, 10), dtype=tf.float32, name=None), name='output/BiasAdd:0', description=\"created by layer 'output'\")\n"
     ]
    },
    {
     "name": "stdout",
     "output_type": "stream",
     "text": [
      "Exported graph: graph(%input : Float(1, 50, strides=[50, 1], requires_grad=0, device=cpu),\n",
      "      %scaleg.0.weight : Float(10, 50, strides=[50, 1], requires_grad=1, device=cpu),\n",
      "      %scaleg.0.bias : Float(10, strides=[1], requires_grad=1, device=cpu)):\n",
      "  %output : Float(1, 10, strides=[10, 1], requires_grad=1, device=cpu) = onnx::Gemm[alpha=1., beta=1., transB=1, onnx_name=\"/scaleg/scaleg.0/Gemm\"](%input, %scaleg.0.weight, %scaleg.0.bias), scope: __main__.ScalegModel::/torch.nn.modules.container.Sequential::scaleg/torch.nn.modules.linear.Linear::scaleg.0 # /home/hf8585/.conda/envs/torch/lib/python3.11/site-packages/torch/nn/modules/linear.py:116:0\n",
      "  return (%output)\n",
      "\n",
      "WARNING:tensorflow:Compiled the loaded model, but the compiled metrics have yet to be built. `model.compile_metrics` will be empty until you train or evaluate the model.\n"
     ]
    },
    {
     "name": "stderr",
     "output_type": "stream",
     "text": [
      "WARNING:tensorflow:Compiled the loaded model, but the compiled metrics have yet to be built. `model.compile_metrics` will be empty until you train or evaluate the model.\n"
     ]
    }
   ],
   "source": [
    "import onnx\n",
    "\n",
    "# make a dummy input with the correct dimensions for your model\n",
    "dummy_input = torch.randn(1, 50)\n",
    "torch.onnx.export(scaleg, dummy_input, 'scaleg.onnx', verbose=True, input_names = ['input'], output_names = ['output'])\n",
    "\n",
    "def sanitize_name(name):\n",
    "    return name.lstrip('/').replace('/', '_').replace('.', '_')\n",
    "\n",
    "def rename_nodes(model):\n",
    "    for node in model.graph.node:\n",
    "        node.name = sanitize_name(node.name)\n",
    "        node.input[:] = [sanitize_name(inp) for inp in node.input]\n",
    "        node.output[:] = [sanitize_name(out) for out in node.output]\n",
    "    for input in model.graph.input:\n",
    "        input.name = sanitize_name(input.name)\n",
    "    for output in model.graph.output:\n",
    "        output.name = sanitize_name(output.name)\n",
    "    for initializer in model.graph.initializer:\n",
    "        initializer.name = sanitize_name(initializer.name)\n",
    "\n",
    "onnx_model = onnx.load('scaleg.onnx')\n",
    "rename_nodes(onnx_model)\n",
    "onnx.save(onnx_model, 'sanitized_scaleg.onnx')\n",
    "\n",
    "from onnx2keras import onnx_to_keras\n",
    "import onnx\n",
    "onnx_model = onnx.load('sanitized_scaleg.onnx')\n",
    "\n",
    "keras_model = onnx_to_keras(onnx_model, ['input'])\n",
    "keras_model.save('tape_dummy_scaleg.h5')"
   ]
  },
  {
   "cell_type": "code",
   "execution_count": 130,
   "metadata": {},
   "outputs": [
    {
     "name": "stderr",
     "output_type": "stream",
     "text": [
      "INFO:onnx2keras:Converter is called.\n",
      "DEBUG:onnx2keras:List input shapes:\n",
      "DEBUG:onnx2keras:None\n",
      "DEBUG:onnx2keras:List inputs:\n",
      "DEBUG:onnx2keras:Input 0 -> input.\n",
      "DEBUG:onnx2keras:List outputs:\n",
      "DEBUG:onnx2keras:Output 0 -> output.\n",
      "DEBUG:onnx2keras:Gathering weights to dictionary.\n",
      "DEBUG:onnx2keras:Found weight shapeg_0_weight with shape (10, 50).\n",
      "DEBUG:onnx2keras:Found weight shapeg_0_bias with shape (10,).\n",
      "DEBUG:onnx2keras:Found input input with shape [50]\n",
      "DEBUG:onnx2keras:######\n",
      "DEBUG:onnx2keras:...\n",
      "DEBUG:onnx2keras:Converting ONNX operation\n",
      "DEBUG:onnx2keras:type: Gemm\n",
      "DEBUG:onnx2keras:node_name: output\n",
      "DEBUG:onnx2keras:node_params: {'alpha': 1.0, 'beta': 1.0, 'transB': 1, 'change_ordering': False, 'name_policy': None}\n",
      "DEBUG:onnx2keras:...\n",
      "DEBUG:onnx2keras:Check if all inputs are available:\n",
      "DEBUG:onnx2keras:Check input 0 (name input).\n",
      "DEBUG:onnx2keras:Check input 1 (name shapeg_0_weight).\n",
      "DEBUG:onnx2keras:The input not found in layers / model inputs.\n",
      "DEBUG:onnx2keras:Found in weights, add as a numpy constant.\n",
      "DEBUG:onnx2keras:Check input 2 (name shapeg_0_bias).\n",
      "DEBUG:onnx2keras:The input not found in layers / model inputs.\n",
      "DEBUG:onnx2keras:Found in weights, add as a numpy constant.\n",
      "DEBUG:onnx2keras:... found all, continue\n",
      "DEBUG:onnx2keras:gemm:Convert GEMM with bias.\n",
      "DEBUG:onnx2keras:gemm:Transposing W matrix.\n",
      "DEBUG:onnx2keras:gemm:Input units 50, output units 10.\n",
      "DEBUG:onnx2keras:Output TF Layer -> KerasTensor(type_spec=TensorSpec(shape=(None, 10), dtype=tf.float32, name=None), name='output/BiasAdd:0', description=\"created by layer 'output'\")\n"
     ]
    },
    {
     "name": "stdout",
     "output_type": "stream",
     "text": [
      "Exported graph: graph(%input : Float(1, 50, strides=[50, 1], requires_grad=0, device=cpu),\n",
      "      %shapeg.0.weight : Float(10, 50, strides=[50, 1], requires_grad=1, device=cpu),\n",
      "      %shapeg.0.bias : Float(10, strides=[1], requires_grad=1, device=cpu)):\n",
      "  %output : Float(1, 10, strides=[10, 1], requires_grad=1, device=cpu) = onnx::Gemm[alpha=1., beta=1., transB=1, onnx_name=\"/shapeg/shapeg.0/Gemm\"](%input, %shapeg.0.weight, %shapeg.0.bias), scope: __main__.ShapegModel::/torch.nn.modules.container.Sequential::shapeg/torch.nn.modules.linear.Linear::shapeg.0 # /home/hf8585/.conda/envs/torch/lib/python3.11/site-packages/torch/nn/modules/linear.py:116:0\n",
      "  return (%output)\n",
      "\n",
      "WARNING:tensorflow:Compiled the loaded model, but the compiled metrics have yet to be built. `model.compile_metrics` will be empty until you train or evaluate the model.\n"
     ]
    },
    {
     "name": "stderr",
     "output_type": "stream",
     "text": [
      "WARNING:tensorflow:Compiled the loaded model, but the compiled metrics have yet to be built. `model.compile_metrics` will be empty until you train or evaluate the model.\n"
     ]
    }
   ],
   "source": [
    "import onnx\n",
    "\n",
    "# make a dummy input with the correct dimensions for your model\n",
    "dummy_input = torch.randn(1, 50)\n",
    "torch.onnx.export(shapeg, dummy_input, 'shapeg.onnx', verbose=True, input_names = ['input'], output_names = ['output'])\n",
    "\n",
    "def sanitize_name(name):\n",
    "    return name.lstrip('/').replace('/', '_').replace('.', '_')\n",
    "\n",
    "def rename_nodes(model):\n",
    "    for node in model.graph.node:\n",
    "        node.name = sanitize_name(node.name)\n",
    "        node.input[:] = [sanitize_name(inp) for inp in node.input]\n",
    "        node.output[:] = [sanitize_name(out) for out in node.output]\n",
    "    for input in model.graph.input:\n",
    "        input.name = sanitize_name(input.name)\n",
    "    for output in model.graph.output:\n",
    "        output.name = sanitize_name(output.name)\n",
    "    for initializer in model.graph.initializer:\n",
    "        initializer.name = sanitize_name(initializer.name)\n",
    "\n",
    "onnx_model = onnx.load('shapeg.onnx')\n",
    "rename_nodes(onnx_model)\n",
    "onnx.save(onnx_model, 'sanitized_shapeg.onnx')\n",
    "\n",
    "from onnx2keras import onnx_to_keras\n",
    "import onnx\n",
    "onnx_model = onnx.load('sanitized_shapeg.onnx')\n",
    "\n",
    "keras_model = onnx_to_keras(onnx_model, ['input'])\n",
    "keras_model.save('tape_dummy_shapeg.h5')"
   ]
  },
  {
   "cell_type": "code",
   "execution_count": 131,
   "metadata": {},
   "outputs": [
    {
     "name": "stderr",
     "output_type": "stream",
     "text": [
      "INFO:onnx2keras:Converter is called.\n",
      "DEBUG:onnx2keras:List input shapes:\n",
      "DEBUG:onnx2keras:None\n",
      "DEBUG:onnx2keras:List inputs:\n",
      "DEBUG:onnx2keras:Input 0 -> input.\n",
      "DEBUG:onnx2keras:List outputs:\n",
      "DEBUG:onnx2keras:Output 0 -> output.\n",
      "DEBUG:onnx2keras:Gathering weights to dictionary.\n",
      "DEBUG:onnx2keras:Found weight onnx::MatMul_4 with shape (50, 10).\n",
      "DEBUG:onnx2keras:Found input input with shape [50]\n",
      "DEBUG:onnx2keras:######\n",
      "DEBUG:onnx2keras:...\n",
      "DEBUG:onnx2keras:Converting ONNX operation\n",
      "DEBUG:onnx2keras:type: MatMul\n",
      "DEBUG:onnx2keras:node_name: output\n",
      "DEBUG:onnx2keras:node_params: {'change_ordering': False, 'name_policy': None}\n",
      "DEBUG:onnx2keras:...\n",
      "DEBUG:onnx2keras:Check if all inputs are available:\n",
      "DEBUG:onnx2keras:Check input 0 (name input).\n",
      "DEBUG:onnx2keras:Check input 1 (name onnx::MatMul_4).\n",
      "DEBUG:onnx2keras:The input not found in layers / model inputs.\n",
      "DEBUG:onnx2keras:Found in weights, add as a numpy constant.\n",
      "DEBUG:onnx2keras:... found all, continue\n",
      "DEBUG:onnx2keras:gemm:Convert GEMM without bias.\n",
      "DEBUG:onnx2keras:gemm:Input units 50, output units 10.\n",
      "DEBUG:onnx2keras:Output TF Layer -> KerasTensor(type_spec=TensorSpec(shape=(None, 10), dtype=tf.float32, name=None), name='output/MatMul:0', description=\"created by layer 'output'\")\n"
     ]
    },
    {
     "name": "stdout",
     "output_type": "stream",
     "text": [
      "Exported graph: graph(%input : Float(1, 50, strides=[50, 1], requires_grad=0, device=cpu),\n",
      "      %onnx::MatMul_4 : Float(50, 10, strides=[1, 50], requires_grad=0, device=cpu)):\n",
      "  %output : Float(1, 10, strides=[10, 1], requires_grad=1, device=cpu) = onnx::MatMul[onnx_name=\"/gate/gate.0/MatMul\"](%input, %onnx::MatMul_4), scope: __main__.GateModel::/torch.nn.modules.container.Sequential::gate/torch.nn.modules.linear.Linear::gate.0 # /home/hf8585/.conda/envs/torch/lib/python3.11/site-packages/torch/nn/modules/linear.py:116:0\n",
      "  return (%output)\n",
      "\n",
      "WARNING:tensorflow:Compiled the loaded model, but the compiled metrics have yet to be built. `model.compile_metrics` will be empty until you train or evaluate the model.\n"
     ]
    },
    {
     "name": "stderr",
     "output_type": "stream",
     "text": [
      "WARNING:tensorflow:Compiled the loaded model, but the compiled metrics have yet to be built. `model.compile_metrics` will be empty until you train or evaluate the model.\n"
     ]
    }
   ],
   "source": [
    "import onnx\n",
    "\n",
    "# make a dummy input with the correct dimensions for your model\n",
    "dummy_input = torch.randn(1, 50)\n",
    "torch.onnx.export(gate, dummy_input, 'gate.onnx', verbose=True, input_names = ['input'], output_names = ['output'])\n",
    "\n",
    "def sanitize_name(name):\n",
    "    return name.lstrip('/').replace('/', '_').replace('.', '_')\n",
    "\n",
    "def rename_nodes(model):\n",
    "    for node in model.graph.node:\n",
    "        node.name = sanitize_name(node.name)\n",
    "        node.input[:] = [sanitize_name(inp) for inp in node.input]\n",
    "        node.output[:] = [sanitize_name(out) for out in node.output]\n",
    "    for input in model.graph.input:\n",
    "        input.name = sanitize_name(input.name)\n",
    "    for output in model.graph.output:\n",
    "        output.name = sanitize_name(output.name)\n",
    "    for initializer in model.graph.initializer:\n",
    "        initializer.name = sanitize_name(initializer.name)\n",
    "\n",
    "onnx_model = onnx.load('gate.onnx')\n",
    "rename_nodes(onnx_model)\n",
    "onnx.save(onnx_model, 'sanitized_gate.onnx')\n",
    "\n",
    "from onnx2keras import onnx_to_keras\n",
    "import onnx\n",
    "onnx_model = onnx.load('sanitized_gate.onnx')\n",
    "\n",
    "keras_model = onnx_to_keras(onnx_model, ['input'])\n",
    "keras_model.save('tape_dummy_gate.h5')"
   ]
  },
  {
   "cell_type": "markdown",
   "metadata": {},
   "source": [
    "TEST OUTPUT CORRECTNESS"
   ]
  },
  {
   "cell_type": "code",
   "execution_count": 71,
   "metadata": {},
   "outputs": [],
   "source": [
    "with open('data/rt_x_train_pca.pkl', 'rb') as f:\n",
    "    x_train = pickle.load(f)\n",
    "with open('data/rt_e.pkl', 'rb') as f:\n",
    "    e = np.array(pickle.load(f))\n",
    "with open('data/rt_t.pkl', 'rb') as f:\n",
    "    t = np.array(pickle.load(f))\n",
    "with open('data/rt_shots.pkl', 'rb') as f:\n",
    "    shots_list = pickle.load(f)"
   ]
  },
  {
   "cell_type": "code",
   "execution_count": 74,
   "metadata": {},
   "outputs": [],
   "source": [
    "with open('models/pca_hyperparams.pkl', 'rb') as file:\n",
    "    loaded_model = pickle.load(file)[1][0]\n",
    "\n",
    "model = loaded_model._model._gen_torch_model(34, 'Adam', 1)\n",
    "\n",
    "embedding = model.embedding\n",
    "shapeg = a.shapeg['1']\n",
    "scaleg = a.scaleg['1']\n",
    "gate = a.gate['1']"
   ]
  },
  {
   "cell_type": "code",
   "execution_count": 117,
   "metadata": {},
   "outputs": [],
   "source": [
    "x_train_tensor = torch.tensor(x_train.values).float()\n",
    "wanted_shot = '193348'\n",
    "start_index = shots_list.index(wanted_shot)\n",
    "end_index = len(shots_list) - 1 - shots_list[::-1].index(wanted_shot)\n",
    "\n",
    "\n",
    "wanted_x_train_tensor = x_train_tensor[start_index:end_index]"
   ]
  },
  {
   "cell_type": "code",
   "execution_count": 118,
   "metadata": {},
   "outputs": [
    {
     "data": {
      "text/plain": [
       "\"with open('180636_outputs.pkl', 'wb') as f:\\n    pickle.dump([wanted_x_train_tensor, model_output, embedding_output, shapeg_output, scaleg_output, gate_output, survival_output], f)\""
      ]
     },
     "execution_count": 118,
     "metadata": {},
     "output_type": "execute_result"
    },
    {
     "data": {
      "image/png": "[encoded data removed]",
      "text/plain": [
       "<Figure size 640x480 with 1 Axes>"
      ]
     },
     "metadata": {},
     "output_type": "display_data"
    }
   ],
   "source": [
    "model_output = model(wanted_x_train_tensor)\n",
    "embedding_output = embedding(wanted_x_train_tensor)\n",
    "shapeg_output = shapeg(embedding_output)\n",
    "scaleg_output = scaleg(embedding_output)\n",
    "gate_output = gate(embedding_output)\n",
    "plt.plot(loaded_model._model.predict_survival(np.array(wanted_x_train_tensor).astype(float), [400]))\n",
    "plt.ylim(0, 1)\n",
    "'''with open('180636_outputs.pkl', 'wb') as f:\n",
    "    pickle.dump([wanted_x_train_tensor, model_output, embedding_output, shapeg_output, scaleg_output, gate_output, survival_output], f)'''"
   ]
  },
  {
   "cell_type": "code",
   "execution_count": 9,
   "metadata": {},
   "outputs": [
    {
     "name": "stdout",
     "output_type": "stream",
     "text": [
      "torch.Size([1, 1000])\n",
      "torch.Size([1, 3])\n",
      "tensor([[0.9874, 1.0554, 1.0971]], grad_fn=<AddBackward0>) tensor([[1.1052, 0.9778, 0.9912]], grad_fn=<AddBackward0>) tensor([[ 0.1165,  0.0377, -0.0991]], grad_fn=<DivBackward0>)\n"
     ]
    }
   ],
   "source": [
    "xrep = embedding.forward(wanted_x_train_tensor)\n",
    "dim = x_train_tensor.shape[0]\n",
    "print(a.act(shapeg(xrep))+a.shape['1'].expand(dim, -1),\n",
    "           a.act(scaleg(xrep))+a.scale['1'].expand(dim, -1),\n",
    "           gate(xrep)/a.temp)\n"
   ]
  },
  {
   "cell_type": "code",
   "execution_count": 105,
   "metadata": {},
   "outputs": [
    {
     "name": "stdout",
     "output_type": "stream",
     "text": [
      "WARNING:tensorflow:No training configuration found in the save file, so the model was *not* compiled. Compile it manually.\n"
     ]
    },
    {
     "name": "stderr",
     "output_type": "stream",
     "text": [
      "WARNING:tensorflow:No training configuration found in the save file, so the model was *not* compiled. Compile it manually.\n"
     ]
    },
    {
     "name": "stdout",
     "output_type": "stream",
     "text": [
      "WARNING:tensorflow:No training configuration found in the save file, so the model was *not* compiled. Compile it manually.\n"
     ]
    },
    {
     "name": "stderr",
     "output_type": "stream",
     "text": [
      "WARNING:tensorflow:No training configuration found in the save file, so the model was *not* compiled. Compile it manually.\n"
     ]
    },
    {
     "name": "stdout",
     "output_type": "stream",
     "text": [
      "WARNING:tensorflow:No training configuration found in the save file, so the model was *not* compiled. Compile it manually.\n"
     ]
    },
    {
     "name": "stderr",
     "output_type": "stream",
     "text": [
      "WARNING:tensorflow:No training configuration found in the save file, so the model was *not* compiled. Compile it manually.\n"
     ]
    },
    {
     "name": "stdout",
     "output_type": "stream",
     "text": [
      "WARNING:tensorflow:No training configuration found in the save file, so the model was *not* compiled. Compile it manually.\n"
     ]
    },
    {
     "name": "stderr",
     "output_type": "stream",
     "text": [
      "WARNING:tensorflow:No training configuration found in the save file, so the model was *not* compiled. Compile it manually.\n"
     ]
    },
    {
     "name": "stdout",
     "output_type": "stream",
     "text": [
      "(1, 179)\n",
      "1/1 [==============================] - 0s 31ms/step\n",
      "1/1 [==============================] - 0s 28ms/step\n",
      "1/1 [==============================] - 0s 27ms/step\n",
      "1/1 [==============================] - 0s 24ms/step\n",
      "[[0.98744142 1.05535991 1.097114  ]] [[1.10518538 0.97778107 0.99118527]] [[ 0.11653557  0.03767988 -0.09908683]]\n"
     ]
    }
   ],
   "source": [
    "from keras.models import load_model\n",
    "x_train_keras = np.array(x_train_tensor)\n",
    "embedding_keras = load_model('embedding.h5')\n",
    "shapeg_keras = load_model('shapeg.h5')\n",
    "scaleg_keras = load_model('scaleg.h5')\n",
    "gate_keras = load_model('gate.h5')\n",
    "print(x_train_keras.shape)\n",
    "xred_keras = embedding_keras.predict(x_train_keras)\n",
    "\n",
    "print(np.tanh(shapeg_keras.predict(xred_keras))+np.array([1,1,1]), \n",
    "      np.tanh(scaleg_keras.predict(xred_keras))+np.array([1,1,1]),\n",
    "        gate_keras.predict(xred_keras))"
   ]
  }
 ],
 "metadata": {
  "kernelspec": {
   "display_name": "Python 3",
   "language": "python",
   "name": "python3"
  },
  "language_info": {
   "codemirror_mode": {
    "name": "ipython",
    "version": 3
   },
   "file_extension": ".py",
   "mimetype": "text/x-python",
   "name": "python",
   "nbconvert_exporter": "python",
   "pygments_lexer": "ipython3",
   "version": "3.11.7"
  },
  "orig_nbformat": 4
 },
 "nbformat": 4,
 "nbformat_minor": 2
}
