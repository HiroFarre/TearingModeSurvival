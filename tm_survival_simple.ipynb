{
 "cells": [
  {
   "cell_type": "code",
   "execution_count": 1,
   "metadata": {},
   "outputs": [
    {
     "name": "stderr",
     "output_type": "stream",
     "text": [
      "/home/hf8585/.conda/envs/torch/lib/python3.11/site-packages/tqdm/auto.py:21: TqdmWarning: IProgress not found. Please update jupyter and ipywidgets. See https://ipywidgets.readthedocs.io/en/stable/user_install.html\n",
      "  from .autonotebook import tqdm as notebook_tqdm\n"
     ]
    }
   ],
   "source": [
    "import h5py as h5\n",
    "import matplotlib.pyplot as plt\n",
    "import os\n",
    "import pandas as pd\n",
    "import numpy as np\n",
    "from tqdm import tqdm\n",
    "import pickle\n",
    "import sys\n",
    "sys.path.append(os.path.expanduser(\"~/TMPredictor/survival_tm/auton-survival\"))\n",
    "from auton_survival.preprocessing import Scaler\n",
    "import optuna\n",
    "from sklearn.model_selection import ParameterGrid\n",
    "#sys.path.append('/projects/EKOLEMEN/survival_tm/train_models/auton-survival')\n",
    "sys.path.append(os.path.expanduser(\"~/TMPredictor/survival_tm/auton-survival\"))\n",
    "from sklearn.model_selection import ParameterGrid\n",
    "from auton_survival.estimators import SurvivalModel\n",
    "from auton_survival.metrics import survival_regression_metric\n",
    "from auton_survival.models.dsm import DeepSurvivalMachines\n",
    "from sksurv.metrics import concordance_index_ipcw, brier_score, cumulative_dynamic_auc"
   ]
  },
  {
   "cell_type": "code",
   "execution_count": 55,
   "metadata": {},
   "outputs": [],
   "source": [
    "with open('data/x_train_future_normed.pkl', 'rb') as f:\n",
    "    x_train_df = pickle.load(f)\n",
    "with open('data/x_valid_future_normed.pkl', 'rb') as f:\n",
    "    x_valid_df = pickle.load(f)\n",
    "with open('data/outcomes_train_df.pkl', 'rb') as f:\n",
    "    outcomes_train_df = pickle.load(f)\n",
    "with open('data/outcomes_valid_df.pkl', 'rb') as f:\n",
    "    outcomes_valid_df = pickle.load(f)"
   ]
  },
  {
   "cell_type": "code",
   "execution_count": 58,
   "metadata": {},
   "outputs": [
    {
     "name": "stderr",
     "output_type": "stream",
     "text": [
      " 13%|█▎        | 1252/10000 [02:43<19:04,  7.65it/s]  \n",
      " 60%|██████    | 6/10 [06:37<04:15, 63.98s/it]"
     ]
    }
   ],
   "source": [
    "param_grid = {'k' : [3],\n",
    "              'iters': [10],\n",
    "              'distribution' : ['LogNormal'],\n",
    "              'learning_rate' : [ 1e-3 ],\n",
    "              'batch_size' : [10000],\n",
    "              'layers' : [[100, 60, 175, 225, 120]]\n",
    "             }\n",
    "\n",
    "params = ParameterGrid(param_grid)\n",
    "models=[]\n",
    "for param in params:\n",
    "    model = SurvivalModel(model='dsm', \n",
    "                      iters=param['iters'], \n",
    "                      k=param['k'], \n",
    "                      layers=param['layers'], \n",
    "                      distribution=param['distribution'],\n",
    "                      learning_rate=param['learning_rate'], \n",
    "                      batch_size=param['batch_size']\n",
    "                    )\n",
    "    '''model = SurvivalModel(model='dsm', \n",
    "                          iters=param['iters'], \n",
    "                          k=param['k'], \n",
    "                          layers=param['layers'], \n",
    "                          distribution=param['distribution'],\n",
    "                          learning_rate=param['learning_rate'], \n",
    "                          batch_size=param['batch_size']\n",
    "                        )'''\n",
    "    _, train_loss, val_loss, param = model.fit(x_train_df, outcomes_train_df)\n",
    "\n",
    "    models.append([model, train_loss, val_loss, param])\n"
   ]
  },
  {
   "cell_type": "code",
   "execution_count": 32,
   "metadata": {},
   "outputs": [],
   "source": [
    "with open('new_hyperparams.pkl', 'rb') as file:\n",
    "    loaded_models = pickle.load(file)"
   ]
  },
  {
   "cell_type": "code",
   "execution_count": 39,
   "metadata": {},
   "outputs": [
    {
     "name": "stdout",
     "output_type": "stream",
     "text": [
      "[None, None]\n"
     ]
    }
   ],
   "source": [
    "arr = []\n",
    "for model in loaded_models:\n",
    "    nan_indices = np.argwhere(np.isnan(model[1]))\n",
    "    first_nan_index = nan_indices[0,0] if nan_indices.size else None\n",
    "    arr.append(first_nan_index)\n",
    "print(arr)"
   ]
  },
  {
   "cell_type": "code",
   "execution_count": null,
   "metadata": {},
   "outputs": [],
   "source": [
    "prediction_times = [20, 50, 100, 200]\n",
    "model = loaded_models[1][0]\n",
    "out_survival = model.predict_survival(x_train_df, prediction_times)\n",
    "peaks = find_peaks_in_data(np.array(outcomes_train_df['time']))\n",
    "for i in range(0, 10):\n",
    "    peak_number = 500 + i\n",
    "    start_index = peaks[peak_number]\n",
    "    end_index = peaks[peak_number + 1]\n",
    "    times = np.arange(0, (end_index - start_index)*20, 20)\n",
    "    plt.plot(times, out_survival[start_index:end_index,2], label='Survival in 100ms')\n",
    "    plt.plot(times, out_survival[start_index:end_index,3], label='Survival in 200ms')\n",
    "\n",
    "    if (np.array(outcomes_train_df['event'])[start_index]==1):\n",
    "        plt.title('YES TM')\n",
    "    else:\n",
    "        plt.title('NO TM')\n",
    "    plt.xlabel('Time / ms')\n",
    "    plt.ylabel('Survival probability')\n",
    "    plt.ylim(0.5, 1)\n",
    "    plt.legend()\n",
    "    plt.show()"
   ]
  },
  {
   "cell_type": "code",
   "execution_count": 43,
   "metadata": {},
   "outputs": [],
   "source": [
    "# make WTC curve\n",
    "\n",
    "# one issue with this metric is if we never predict TMs then we're always perfect. \n",
    "def fpr_auc(model, normed_x, normed_t, normed_e, prediction_times, threshold=0.7):\n",
    "    out_survival = model.predict_survival(normed_x, prediction_times)\n",
    "    fprs = []\n",
    "    for i, time in enumerate(prediction_times):\n",
    "        survival_prediction = out_survival[:,i]\n",
    "        survival_prediction = (survival_prediction < threshold).astype(int)\n",
    "        false_positives = np.logical_and(survival_prediction == 1, normed_e == 0)\n",
    "        true_negatives = np.logical_and(survival_prediction == 0, normed_e == 0)\n",
    "        fpr = false_positives.sum() / (false_positives.sum() + true_negatives.sum())\n",
    "        fprs.append(fpr)\n",
    "\n",
    "    auc = np.trapz(fprs, prediction_times)\n",
    "    return auc, fprs, prediction_times\n",
    "\n",
    "def find_peaks_in_data(data):\n",
    "    peaks = []\n",
    "    for i in range(1, len(data) - 1):\n",
    "        if data[i-1] < data[i] > data[i+1]:\n",
    "            peaks.append(i)\n",
    "    return peaks\n",
    "\n",
    "def fnr_auc(model, normed_x, normed_t, normed_e, prediction_times, threshold=0.7):\n",
    "    out_survival = model.predict_survival(normed_x, prediction_times)\n",
    "    fnrs = []\n",
    "    shot_indices = find_peaks_in_data(normed_t)\n",
    "    for i, time in enumerate(prediction_times):\n",
    "        tm_prediction_per_shot = []\n",
    "        # 1 means correct TM prediction, 0 means unpredicted TM, -1 means no TM in shot\n",
    "        # a TM is predicted when the survival prediction is 0 at any point in the shot. Check if better results when TM is consecutive 0s\n",
    "        for j, shot_index in enumerate(shot_indices):\n",
    "            survival_prediction = out_survival[:,i]\n",
    "            survival_prediction = (survival_prediction < threshold).astype(int)\n",
    "            tm = (0 in survival_prediction[shot_indices[j]:shot_indices[j+1]])\n",
    "            if normed_e[shot_index] == 1 and tm:\n",
    "                tm_prediction_per_shot.append(1)\n",
    "            elif normed_e[shot_index] == 1 and not tm:\n",
    "                tm_prediction_per_shot.append(0)\n",
    "            else:\n",
    "                tm_prediction_per_shot.append(-1)\n",
    "        fnr = tm_prediction_per_shot.count(0) / (tm_prediction_per_shot.count(1) + tm_prediction_per_shot.count(0))\n",
    "        fnrs.append(fnr)\n",
    "    auc = np.trapz(fnrs, prediction_times)\n",
    "    return auc, fnrs, prediction_times"
   ]
  },
  {
   "cell_type": "code",
   "execution_count": 86,
   "metadata": {},
   "outputs": [
    {
     "name": "stderr",
     "output_type": "stream",
     "text": [
      "/home/hf8585/TMPredictor/survival_tm/auton-survival/auton_survival/estimators.py:206: FutureWarning: DataFrame.interpolate with method=bfill is deprecated and will raise in a future version. Use obj.ffill() or obj.bfill() instead.\n",
      "  return survival_predictions.sort_index(axis=0).interpolate().interpolate(method='bfill').T[times].values\n",
      "/home/hf8585/TMPredictor/survival_tm/auton-survival/auton_survival/estimators.py:206: FutureWarning: DataFrame.interpolate with method=bfill is deprecated and will raise in a future version. Use obj.ffill() or obj.bfill() instead.\n",
      "  return survival_predictions.sort_index(axis=0).interpolate().interpolate(method='bfill').T[times].values\n"
     ]
    },
    {
     "ename": "IndexError",
     "evalue": "list index out of range",
     "output_type": "error",
     "traceback": [
      "\u001b[0;31m---------------------------------------------------------------------------\u001b[0m",
      "\u001b[0;31mIndexError\u001b[0m                                Traceback (most recent call last)",
      "\u001b[1;32m/home/hf8585/TMPredictor/survival_tm/TearingModeSurvival/tm_survival_simple.ipynb Cell 16\u001b[0m line \u001b[0;36m3\n\u001b[1;32m      <a href='vscode-notebook-cell://ssh-remote%2Bstellar.princeton.edu/home/hf8585/TMPredictor/survival_tm/TearingModeSurvival/tm_survival_simple.ipynb#X30sdnNjb2RlLXJlbW90ZQ%3D%3D?line=0'>1</a>\u001b[0m threshold \u001b[39m=\u001b[39m \u001b[39m0.7\u001b[39m\n\u001b[1;32m      <a href='vscode-notebook-cell://ssh-remote%2Bstellar.princeton.edu/home/hf8585/TMPredictor/survival_tm/TearingModeSurvival/tm_survival_simple.ipynb#X30sdnNjb2RlLXJlbW90ZQ%3D%3D?line=1'>2</a>\u001b[0m fpr_auc, fprs, prediction_times \u001b[39m=\u001b[39m fpr_auc(models[\u001b[39m0\u001b[39m][\u001b[39m3\u001b[39m], x_test_df, t_test, e_test, prediction_times, threshold\u001b[39m=\u001b[39mthreshold)\n\u001b[0;32m----> <a href='vscode-notebook-cell://ssh-remote%2Bstellar.princeton.edu/home/hf8585/TMPredictor/survival_tm/TearingModeSurvival/tm_survival_simple.ipynb#X30sdnNjb2RlLXJlbW90ZQ%3D%3D?line=2'>3</a>\u001b[0m fnr_auc, fnrs, prediction_times \u001b[39m=\u001b[39m fnr_auc(models[\u001b[39m0\u001b[39m][\u001b[39m3\u001b[39m], x_test_df, t_test, e_test, prediction_times, threshold\u001b[39m=\u001b[39mthreshold)\n",
      "\u001b[1;32m/home/hf8585/TMPredictor/survival_tm/TearingModeSurvival/tm_survival_simple.ipynb Cell 16\u001b[0m line \u001b[0;36m3\n\u001b[1;32m     <a href='vscode-notebook-cell://ssh-remote%2Bstellar.princeton.edu/home/hf8585/TMPredictor/survival_tm/TearingModeSurvival/tm_survival_simple.ipynb#X30sdnNjb2RlLXJlbW90ZQ%3D%3D?line=33'>34</a>\u001b[0m survival_prediction \u001b[39m=\u001b[39m out_survival[:,i]\n\u001b[1;32m     <a href='vscode-notebook-cell://ssh-remote%2Bstellar.princeton.edu/home/hf8585/TMPredictor/survival_tm/TearingModeSurvival/tm_survival_simple.ipynb#X30sdnNjb2RlLXJlbW90ZQ%3D%3D?line=34'>35</a>\u001b[0m survival_prediction \u001b[39m=\u001b[39m (survival_prediction \u001b[39m<\u001b[39m threshold)\u001b[39m.\u001b[39mastype(\u001b[39mint\u001b[39m)\n\u001b[0;32m---> <a href='vscode-notebook-cell://ssh-remote%2Bstellar.princeton.edu/home/hf8585/TMPredictor/survival_tm/TearingModeSurvival/tm_survival_simple.ipynb#X30sdnNjb2RlLXJlbW90ZQ%3D%3D?line=35'>36</a>\u001b[0m tm \u001b[39m=\u001b[39m (\u001b[39m0\u001b[39m \u001b[39min\u001b[39;00m survival_prediction[shot_indices[j]:shot_indices[j\u001b[39m+\u001b[39m\u001b[39m1\u001b[39m]])\n\u001b[1;32m     <a href='vscode-notebook-cell://ssh-remote%2Bstellar.princeton.edu/home/hf8585/TMPredictor/survival_tm/TearingModeSurvival/tm_survival_simple.ipynb#X30sdnNjb2RlLXJlbW90ZQ%3D%3D?line=36'>37</a>\u001b[0m \u001b[39mif\u001b[39;00m normed_e[shot_index] \u001b[39m==\u001b[39m \u001b[39m1\u001b[39m \u001b[39mand\u001b[39;00m tm:\n\u001b[1;32m     <a href='vscode-notebook-cell://ssh-remote%2Bstellar.princeton.edu/home/hf8585/TMPredictor/survival_tm/TearingModeSurvival/tm_survival_simple.ipynb#X30sdnNjb2RlLXJlbW90ZQ%3D%3D?line=37'>38</a>\u001b[0m     tm_prediction_per_shot\u001b[39m.\u001b[39mappend(\u001b[39m1\u001b[39m)\n",
      "\u001b[0;31mIndexError\u001b[0m: list index out of range"
     ]
    }
   ],
   "source": [
    "threshold = 0.7\n",
    "fpr_auc, fprs, prediction_times = fpr_auc(models[0][3], x_test_df, t_test, e_test, prediction_times, threshold=threshold)\n",
    "fnr_auc, fnrs, prediction_times = fnr_auc(models[0][3], x_test_df, t_test, e_test, prediction_times, threshold=threshold)"
   ]
  },
  {
   "cell_type": "code",
   "execution_count": null,
   "metadata": {},
   "outputs": [],
   "source": []
  }
 ],
 "metadata": {
  "kernelspec": {
   "display_name": "Python 3",
   "language": "python",
   "name": "python3"
  },
  "language_info": {
   "codemirror_mode": {
    "name": "ipython",
    "version": 3
   },
   "file_extension": ".py",
   "mimetype": "text/x-python",
   "name": "python",
   "nbconvert_exporter": "python",
   "pygments_lexer": "ipython3",
   "version": "3.11.7"
  },
  "orig_nbformat": 4
 },
 "nbformat": 4,
 "nbformat_minor": 2
}
